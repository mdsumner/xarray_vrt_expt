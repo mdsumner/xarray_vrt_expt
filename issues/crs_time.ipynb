{
  "cells": [
    {
      "cell_type": "raw",
      "metadata": {},
      "source": [
        "---\n",
        "title: \"CRS on time dimension\"\n",
        "format: html\n",
        "editor: visual\n",
        "---"
      ],
      "id": "506fef46"
    },
    {
      "cell_type": "markdown",
      "metadata": {},
      "source": [
        "##  Problem NetCDF files \n",
        "\n",
        "The dummy 'crs' variable exists to store projection info for the data in a NetCDF file. \n",
        "\n",
        "When xarray reads one dataset with `open_dataset()` it correctly sits on its own unused scalar dimension, but\n",
        "with `open_mfdataset()` crs is on the 'time' dimension. This causes problems with append. \n",
        "\n",
        "\n",
        "(I cannot get this to work from the github URLs, so I'm just assuming you download some [from here](https://github.com/mdsumner/xarray_vrt_expt/tree/master/data/nsidc)). \n"
      ],
      "id": "05e64113"
    },
    {
      "cell_type": "code",
      "metadata": {},
      "source": [
        "import xarray as xr \n",
        "#xr.open_dataset('https://github.com/mdsumner/xarray_vrt_expt/raw/master/data/nsidc/NSIDC0051_SEAICE_PS_S25km_20220522_v2.0.nc#mode=bytes')\n",
        "xr.open_dataset('data/nsidc/NSIDC0051_SEAICE_PS_S25km_20220522_v2.0.nc', engine = 'netcdf4')\n",
        "\n",
        "## open two and crs is living on the time dimension\n",
        "xr.open_mfdataset(['data/nsidc/NSIDC0051_SEAICE_PS_S25km_20220522_v2.0.nc', \n",
        "                  'data/nsidc/NSIDC0051_SEAICE_PS_S25km_20220523_v2.0.nc'], engine = 'netcdf4')\n",
        "\n",
        "\n",
        "\n",
        "## open 1 it doesn't happen\n",
        "xr.open_mfdataset('data/nsidc/NSIDC0051_SEAICE_PS_S25km_20220522_v2.0.nc', engine = 'netcdf4')\n",
        "xr.open_mfdataset(['data/nsidc/NSIDC0051_SEAICE_PS_S25km_20220522_v2.0.nc'], engine = 'netcdf4')"
      ],
      "id": "2e7028a0",
      "execution_count": null,
      "outputs": []
    }
  ],
  "metadata": {
    "kernelspec": {
      "name": "python3",
      "language": "python",
      "display_name": "Python 3 (ipykernel)"
    }
  },
  "nbformat": 4,
  "nbformat_minor": 5
}